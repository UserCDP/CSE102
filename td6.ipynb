{
 "cells": [
  {
   "cell_type": "markdown",
   "metadata": {},
   "source": [
    "# Exercise 1\n",
    "1. x < 1\n",
    "2. x=3\n",
    "3. x=i\n",
    "4. x=3-y\n",
    "5. y=47\n",
    "6. x=max(abs(y), y+1)"
   ]
  },
  {
   "cell_type": "code",
   "execution_count": null,
   "metadata": {},
   "outputs": [],
   "source": [
    "# Exercise 2\n",
    "# 1\n",
    "def localMaxs(G):\n",
    "    m, n = len (G)+1 , len (G[0])+1\n",
    "    H = [None] * m\n",
    "    for i in range(m):\n",
    "        H[i] = [-1] * n\n",
    "\n",
    "    for i in range(m-1, -1, -1):\n",
    "        for j in range(n-1, -1, -1):\n",
    "            if j == len(G[0]) or i == len(G):\n",
    "                H[i][j] = 0\n",
    "            else:\n",
    "                H[i][j] = max(H[i+1][j], H[i][j+1]) + G[i][j]\n",
    "    return H[0][0]\n",
    "\n",
    "G=[[1,2,2],\n",
    "    [1,1,1],\n",
    "    [9,9,1]]\n",
    "\n",
    "# 2\n",
    "def maxWGreedy(G):\n",
    "    total = G[0][0]\n",
    "    m = len (G)\n",
    "    n = len (G[0])\n",
    "    i = 0\n",
    "    j = 0\n",
    "    while (i<m-1 or j<n-1):\n",
    "        if i == m-1:\n",
    "            total += G[i][j+1]\n",
    "            j += 1\n",
    "        elif j == n-1:\n",
    "            total += G[i+1][j]\n",
    "            i += 1\n",
    "        else:\n",
    "            if G[i+1][j] > G[i][j+1]:\n",
    "                total += G[i+1][j]\n",
    "                i += 1\n",
    "            else:\n",
    "                total += G[i][j+1]\n",
    "                j += 1\n",
    "\n",
    "    return total"
   ]
  },
  {
   "cell_type": "code",
   "execution_count": null,
   "metadata": {},
   "outputs": [],
   "source": [
    "import random\n",
    "n = 1000\n",
    "G = [0] * n\n",
    "for i in range ( n ):\n",
    "    G[i] = [0] * n\n",
    "    for j in range ( n ):\n",
    "        G[i][j] = random.randint (0 ,9)"
   ]
  },
  {
   "cell_type": "code",
   "execution_count": null,
   "metadata": {},
   "outputs": [],
   "source": [
    "import time\n",
    "t0 = time.time ()\n",
    "maxWDyn (G)\n",
    "print ( \" Recursive DP algorithm took \", time.time()-t0, \"seconds\")\n",
    "t0 = time.time ()\n",
    "opt = maxWDynNonRec(G)\n",
    "print (\"Non - recursive DP algorithm took\", time.time () - t0 , \" seconds \" )\n",
    "t0 = time . time ()\n",
    "subopt = maxWGreedy ( G )\n",
    "print (\"Greedy algorithm took\" , time.time () - t0 , \" seconds \" )\n",
    "print (\"Optimal weight: \" , opt )\n",
    "print (\"Suboptimal weight: \" , subopt )\n",
    "print (\"Ratio: \" , float ( subopt )/ float ( opt ))"
   ]
  },
  {
   "cell_type": "code",
   "execution_count": null,
   "metadata": {},
   "outputs": [],
   "source": [
    "# Exercise 3\n",
    "def editDist(s1, s2):\n",
    "    if s1 == '' or s2 == '':\n",
    "        return 0\n",
    "    if s1 == s2:\n",
    "        return 0\n",
    "    return 1 + min(editDist(s1[:-1], s2[:-1]), editDist(s1[:-1], s2), editDist(s1, s2))"
   ]
  }
 ],
 "metadata": {
  "kernelspec": {
   "display_name": "Python 3.6.8 64-bit",
   "language": "python",
   "name": "python3"
  },
  "language_info": {
   "name": "python",
   "version": "3.6.8"
  },
  "orig_nbformat": 4,
  "vscode": {
   "interpreter": {
    "hash": "916dbcbb3f70747c44a77c7bcd40155683ae19c65e1c03b4aa3499c5328201f1"
   }
  }
 },
 "nbformat": 4,
 "nbformat_minor": 2
}
